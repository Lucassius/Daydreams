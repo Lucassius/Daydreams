{
  "nbformat": 4,
  "nbformat_minor": 0,
  "metadata": {
    "colab": {
      "provenance": [],
      "authorship_tag": "ABX9TyMgWPbpV0OFac/NQAA92/11",
      "include_colab_link": true
    },
    "kernelspec": {
      "name": "python3",
      "display_name": "Python 3"
    },
    "language_info": {
      "name": "python"
    }
  },
  "cells": [
    {
      "cell_type": "markdown",
      "metadata": {
        "id": "view-in-github",
        "colab_type": "text"
      },
      "source": [
        "<a href=\"https://colab.research.google.com/github/Lucassius/PythonProjects/blob/main/CryptographyAlgorithm.ipynb\" target=\"_parent\"><img src=\"https://colab.research.google.com/assets/colab-badge.svg\" alt=\"Open In Colab\"/></a>"
      ]
    },
    {
      "cell_type": "markdown",
      "source": [
        "Criptografia Fernet, que é baseado no algoritmo AES em modo CBC (Cipher Block Chaining)"
      ],
      "metadata": {
        "id": "0ZuUnX3qFDqd"
      }
    },
    {
      "cell_type": "code",
      "source": [
        "from cryptography.fernet import Fernet\n",
        "\n",
        "# Gerando uma chave aleatória para criptografia\n",
        "key = Fernet.generate_key()\n",
        "\n",
        "# Criando o objeto Fernet usando a chave gerada\n",
        "fernet = Fernet(key)\n",
        "\n",
        "# Solicitando ao usuário que insira a mensagem que deseja criptografar\n",
        "mensagem = input(\"Insira a mensagem que deseja criptografar: \").encode()\n",
        "\n",
        "# Criptografando a mensagem\n",
        "mensagem_criptografada = fernet.encrypt(mensagem)\n",
        "\n",
        "# Imprimindo a mensagem criptografada\n",
        "print(\"Mensagem criptografada: \", mensagem_criptografada)\n",
        "\n",
        "# Descriptografando a mensagem\n",
        "mensagem_descriptografada = fernet.decrypt(mensagem_criptografada)\n",
        "\n",
        "# Imprimindo a mensagem descriptografada\n",
        "print(\"Mensagem descriptografada: \", mensagem_descriptografada.decode())\n"
      ],
      "metadata": {
        "colab": {
          "base_uri": "https://localhost:8080/"
        },
        "id": "SWa6ptk6FHiM",
        "outputId": "b3c21b1d-3e81-4498-855c-e2df8a94b537"
      },
      "execution_count": 6,
      "outputs": [
        {
          "output_type": "stream",
          "name": "stdout",
          "text": [
            "Insira a mensagem que deseja criptografar: i\n",
            "Mensagem criptografada:  b'gAAAAABkU_-FVtjdvMD4oxMCEyuCMCvMYxxprJw8jXEOyznuCX8yWu92t88IM8Bs1yIEQsSvLfwN77Iydcab9ryXP6DkOHYFnQ=='\n",
            "Mensagem descriptografada:  i\n"
          ]
        }
      ]
    },
    {
      "cell_type": "markdown",
      "source": [
        "Fernet Documentation; https://cryptography.io/en/latest/fernet/"
      ],
      "metadata": {
        "id": "ijP5YhZ-GeW2"
      }
    }
  ]
}