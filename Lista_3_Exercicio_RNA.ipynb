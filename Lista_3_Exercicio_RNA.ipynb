{
  "nbformat": 4,
  "nbformat_minor": 0,
  "metadata": {
    "colab": {
      "provenance": [],
      "include_colab_link": true
    },
    "kernelspec": {
      "name": "python3",
      "display_name": "Python 3"
    },
    "language_info": {
      "name": "python"
    }
  },
  "cells": [
    {
      "cell_type": "markdown",
      "metadata": {
        "id": "view-in-github",
        "colab_type": "text"
      },
      "source": [
        "<a href=\"https://colab.research.google.com/github/Lucassius/Python-Notebook-Projects/blob/main/Lista_3_Exercicio_RNA.ipynb\" target=\"_parent\"><img src=\"https://colab.research.google.com/assets/colab-badge.svg\" alt=\"Open In Colab\"/></a>"
      ]
    },
    {
      "cell_type": "markdown",
      "source": [
        "#Exercício de CNN"
      ],
      "metadata": {
        "id": "mnsFhk8yzQdi"
      }
    },
    {
      "cell_type": "markdown",
      "source": [
        "Resolva o problema de detectar se uma pessoa está usando máscara ou não"
      ],
      "metadata": {
        "id": "Kb8PsgVfKnG3"
      }
    },
    {
      "cell_type": "code",
      "source": [
        "import os\n",
        "import cv2\n",
        "import numpy as np\n",
        "from sklearn.model_selection import train_test_split\n",
        "from keras.models import Sequential\n",
        "from keras.layers import Conv2D, MaxPooling2D, Flatten, Dense\n",
        "from keras.utils import load_img, img_to_array\n",
        "\n",
        "from google.colab.patches import cv2_imshow"
      ],
      "metadata": {
        "id": "QXOz_1mOzTUu"
      },
      "execution_count": 1,
      "outputs": []
    },
    {
      "cell_type": "markdown",
      "source": [
        "A base de dados mask.zip possui pastas com imagens de pessoas em 4 situações:\n",
        "- Rosto totalmente coberto (tipo 0)\n",
        "- Rosto descoberto (tipo 1)\n",
        "- Imagem não é uma face (tipo 2)\n",
        "- Rosto parcialmente coberto (tipo 3)"
      ],
      "metadata": {
        "id": "L-p_8VwkK2HZ"
      }
    },
    {
      "cell_type": "code",
      "source": [
        "from IPython.display import clear_output\n",
        "\n",
        "!curl -LO https://raw.githubusercontent.com/lucasvra/domotica_robotica/main/dados/mask.zip\n",
        "!mkdir mask\n",
        "!unzip -o mask.zip -d /content/mask\n",
        "\n",
        "clear_output()"
      ],
      "metadata": {
        "id": "7NAXcroot58v"
      },
      "execution_count": 2,
      "outputs": []
    },
    {
      "cell_type": "code",
      "source": [
        "# Definir o caminho para a pasta das imagens\n",
        "data_path = '/content/mask'\n",
        "\n",
        "classes_dic = {\n",
        "    'fully_covered':0,\n",
        "    'not_covered':1,\n",
        "    'not_face':2,\n",
        "    'partially_covered':3\n",
        "}"
      ],
      "metadata": {
        "id": "mUiOlKosKtpL"
      },
      "execution_count": 3,
      "outputs": []
    },
    {
      "cell_type": "code",
      "source": [
        "# Carregar as imagens e seus rótulos\n",
        "images = []\n",
        "labels = []\n",
        "classes = list(filter(lambda f: not f.startswith('.'), os.listdir(data_path)))\n",
        "\n",
        "for class_name in classes: #OBS: Tem formas melhores de fazer isso\n",
        "    class_path = os.path.join(data_path, class_name)\n",
        "    for img_name in os.listdir(class_path):\n",
        "        if img_name.endswith(\".jpg\"):\n",
        "          img_path = os.path.join(class_path, img_name)\n",
        "          img = cv2.imread(img_path, cv2.IMREAD_GRAYSCALE)\n",
        "          img = cv2.resize(img, (64, 64))\n",
        "          images.append(img)\n",
        "          labels.append(classes_dic[class_name])\n",
        "\n",
        "# Converter as listas em arrays numpy\n",
        "images = np.array(images)\n",
        "labels = np.array(labels)"
      ],
      "metadata": {
        "id": "tBcGWt6DK2iO"
      },
      "execution_count": 4,
      "outputs": []
    },
    {
      "cell_type": "code",
      "source": [
        "# Dividir os dados em conjuntos de treinamento e teste\n",
        "X_train, X_test, y_train, y_test = train_test_split(images, labels, test_size=0.2, random_state=42)\n",
        "\n",
        "# Redimensionar e normalizar as imagens de entrada\n",
        "X_train = X_train.reshape(X_train.shape[0], 64, 64, 1).astype('float32') / 255\n",
        "X_test = X_test.reshape(X_test.shape[0], 64, 64, 1).astype('float32') / 255"
      ],
      "metadata": {
        "id": "luvDkcRPK-x4"
      },
      "execution_count": 5,
      "outputs": []
    },
    {
      "cell_type": "code",
      "source": [
        "# Criar o modelo da rede neural convolucional\n",
        "model = Sequential()\n",
        "model.add(Conv2D(64, kernel_size=(3, 3), activation='relu', input_shape=(64, 64, 1)))\n",
        "model.add(MaxPooling2D(pool_size=(2, 2)))\n",
        "model.add(Conv2D(64, kernel_size=(3, 3), activation='relu'))\n",
        "model.add(MaxPooling2D(pool_size=(2, 2)))\n",
        "model.add(Flatten())\n",
        "model.add(Dense(128, activation='relu'))\n",
        "model.add(Dense(len(classes), activation='softmax'))\n",
        "model.build()\n",
        "\n",
        "# Utilizei duas camadas de convolução e duas camadas de max pooling para aumentar a precisão de identificação\n",
        "\n",
        "\n",
        "# Compilar o modelo\n",
        "model.compile(loss='sparse_categorical_crossentropy', optimizer='adam', metrics=['accuracy'])"
      ],
      "metadata": {
        "id": "D_tTxfOrLByq"
      },
      "execution_count": 20,
      "outputs": []
    },
    {
      "cell_type": "code",
      "source": [
        "\n",
        "model.summary()"
      ],
      "metadata": {
        "id": "gAu3qSW9nOhD",
        "outputId": "7fd71854-fde7-4adf-ee40-9b743e8bd141",
        "colab": {
          "base_uri": "https://localhost:8080/"
        }
      },
      "execution_count": 21,
      "outputs": [
        {
          "output_type": "stream",
          "name": "stdout",
          "text": [
            "Model: \"sequential_4\"\n",
            "_________________________________________________________________\n",
            " Layer (type)                Output Shape              Param #   \n",
            "=================================================================\n",
            " conv2d_5 (Conv2D)           (None, 62, 62, 64)        640       \n",
            "                                                                 \n",
            " max_pooling2d_5 (MaxPooling  (None, 31, 31, 64)       0         \n",
            " 2D)                                                             \n",
            "                                                                 \n",
            " conv2d_6 (Conv2D)           (None, 29, 29, 64)        36928     \n",
            "                                                                 \n",
            " max_pooling2d_6 (MaxPooling  (None, 14, 14, 64)       0         \n",
            " 2D)                                                             \n",
            "                                                                 \n",
            " flatten_4 (Flatten)         (None, 12544)             0         \n",
            "                                                                 \n",
            " dense_5 (Dense)             (None, 128)               1605760   \n",
            "                                                                 \n",
            " dense_6 (Dense)             (None, 4)                 516       \n",
            "                                                                 \n",
            "=================================================================\n",
            "Total params: 1,643,844\n",
            "Trainable params: 1,643,844\n",
            "Non-trainable params: 0\n",
            "_________________________________________________________________\n"
          ]
        }
      ]
    },
    {
      "cell_type": "code",
      "source": [
        "# Treinar o modelo\n",
        "model.fit(X_train, y_train, epochs=12, batch_size=32, verbose=1)"
      ],
      "metadata": {
        "id": "FNl_P-AFy0ma",
        "outputId": "4aaeec5f-073d-45d8-d2b8-9f98c4d98d52",
        "colab": {
          "base_uri": "https://localhost:8080/"
        }
      },
      "execution_count": 25,
      "outputs": [
        {
          "output_type": "stream",
          "name": "stdout",
          "text": [
            "Epoch 1/12\n",
            "166/166 [==============================] - 34s 207ms/step - loss: 0.1782 - accuracy: 0.9415\n",
            "Epoch 2/12\n",
            "166/166 [==============================] - 35s 211ms/step - loss: 0.1325 - accuracy: 0.9564\n",
            "Epoch 3/12\n",
            "166/166 [==============================] - 34s 203ms/step - loss: 0.0803 - accuracy: 0.9756\n",
            "Epoch 4/12\n",
            "166/166 [==============================] - 34s 203ms/step - loss: 0.0696 - accuracy: 0.9768\n",
            "Epoch 5/12\n",
            "166/166 [==============================] - 34s 205ms/step - loss: 0.0406 - accuracy: 0.9873\n",
            "Epoch 6/12\n",
            "166/166 [==============================] - 33s 197ms/step - loss: 0.0446 - accuracy: 0.9843\n",
            "Epoch 7/12\n",
            "166/166 [==============================] - 34s 207ms/step - loss: 0.0426 - accuracy: 0.9860\n",
            "Epoch 8/12\n",
            "166/166 [==============================] - 34s 202ms/step - loss: 0.0285 - accuracy: 0.9906\n",
            "Epoch 9/12\n",
            "166/166 [==============================] - 33s 201ms/step - loss: 0.0221 - accuracy: 0.9930\n",
            "Epoch 10/12\n",
            "166/166 [==============================] - 38s 229ms/step - loss: 0.0200 - accuracy: 0.9928\n",
            "Epoch 11/12\n",
            "166/166 [==============================] - 34s 203ms/step - loss: 0.0106 - accuracy: 0.9968\n",
            "Epoch 12/12\n",
            "166/166 [==============================] - 35s 209ms/step - loss: 0.0051 - accuracy: 0.9987\n"
          ]
        },
        {
          "output_type": "execute_result",
          "data": {
            "text/plain": [
              "<keras.callbacks.History at 0x7f3c48769db0>"
            ]
          },
          "metadata": {},
          "execution_count": 25
        }
      ]
    },
    {
      "cell_type": "code",
      "source": [
        "loss, accuracy = model.evaluate(X_test, y_test)\n",
        "print('Loss:', loss)\n",
        "print(f'Accuracy: {(accuracy*100):.2f}%')"
      ],
      "metadata": {
        "id": "ngPpqvtyxEKT",
        "outputId": "e8a40f76-5aff-406c-f693-8d8675bfd314",
        "colab": {
          "base_uri": "https://localhost:8080/"
        }
      },
      "execution_count": 33,
      "outputs": [
        {
          "output_type": "stream",
          "name": "stdout",
          "text": [
            "42/42 [==============================] - 2s 47ms/step - loss: 0.1678 - accuracy: 0.9645\n",
            "Loss: 0.16781558096408844\n",
            "Accuracy: 96.45%\n"
          ]
        }
      ]
    },
    {
      "cell_type": "code",
      "source": [
        "predictions = model.predict(X_test)\n",
        "inv_dic = {v: k for k, v in classes_dic.items()}\n",
        "# Exibir algumas previsões e os valores reais correspondentes\n",
        "for i in range(10):\n",
        "    print(f'Predicao: {inv_dic[predictions[i].argmax()]} | Real: {inv_dic[y_test[i]]}')\n",
        "    cv2_imshow(X_test[i]*255)\n",
        "    print('---')"
      ],
      "metadata": {
        "id": "wkoAXZZQ3hN6",
        "colab": {
          "base_uri": "https://localhost:8080/",
          "height": 1000
        },
        "outputId": "bf9cbb64-07e1-4955-96cb-b3d18d5ebb00"
      },
      "execution_count": 34,
      "outputs": [
        {
          "output_type": "stream",
          "name": "stdout",
          "text": [
            "42/42 [==============================] - 3s 63ms/step\n",
            "Predicao: not_covered | Real: not_covered\n"
          ]
        },
        {
          "output_type": "display_data",
          "data": {
            "text/plain": [
              "<PIL.Image.Image image mode=RGB size=64x64 at 0x7F3C3BFFFD00>"
            ],
            "image/png": "[encoded data removed]"
          },
          "metadata": {}
        },
        {
          "output_type": "stream",
          "name": "stdout",
          "text": [
            "---\n",
            "Predicao: not_covered | Real: not_covered\n"
          ]
        },
        {
          "output_type": "display_data",
          "data": {
            "text/plain": [
              "<PIL.Image.Image image mode=RGB size=64x64 at 0x7F3C3BFFFD00>"
            ],
            "image/png": "[encoded data removed]"
          },
          "metadata": {}
        },
        {
          "output_type": "stream",
          "name": "stdout",
          "text": [
            "---\n",
            "Predicao: not_covered | Real: not_covered\n"
          ]
        },
        {
          "output_type": "display_data",
          "data": {
            "text/plain": [
              "<PIL.Image.Image image mode=RGB size=64x64 at 0x7F3CF26530D0>"
            ],
            "image/png": "[encoded data removed]"
          },
          "metadata": {}
        },
        {
          "output_type": "stream",
          "name": "stdout",
          "text": [
            "---\n",
            "Predicao: not_covered | Real: not_covered\n"
          ]
        },
        {
          "output_type": "display_data",
          "data": {
            "text/plain": [
              "<PIL.Image.Image image mode=RGB size=64x64 at 0x7F3C501AF310>"
            ],
            "image/png": "[encoded data removed]"
          },
          "metadata": {}
        },
        {
          "output_type": "stream",
          "name": "stdout",
          "text": [
            "---\n",
            "Predicao: fully_covered | Real: fully_covered\n"
          ]
        },
        {
          "output_type": "display_data",
          "data": {
            "text/plain": [
              "<PIL.Image.Image image mode=RGB size=64x64 at 0x7F3C3BE145E0>"
            ],
            "image/png": "[encoded data removed]"
          },
          "metadata": {}
        },
        {
          "output_type": "stream",
          "name": "stdout",
          "text": [
            "---\n",
            "Predicao: fully_covered | Real: fully_covered\n"
          ]
        },
        {
          "output_type": "display_data",
          "data": {
            "text/plain": [
              "<PIL.Image.Image image mode=RGB size=64x64 at 0x7F3C3BE153F0>"
            ],
            "image/png": "[encoded data removed]"
          },
          "metadata": {}
        },
        {
          "output_type": "stream",
          "name": "stdout",
          "text": [
            "---\n",
            "Predicao: not_covered | Real: not_covered\n"
          ]
        },
        {
          "output_type": "display_data",
          "data": {
            "text/plain": [
              "<PIL.Image.Image image mode=RGB size=64x64 at 0x7F3C3BE14EB0>"
            ],
            "image/png": "[encoded data removed]"
          },
          "metadata": {}
        },
        {
          "output_type": "stream",
          "name": "stdout",
          "text": [
            "---\n",
            "Predicao: not_face | Real: not_face\n"
          ]
        },
        {
          "output_type": "display_data",
          "data": {
            "text/plain": [
              "<PIL.Image.Image image mode=RGB size=64x64 at 0x7F3C3BE150C0>"
            ],
            "image/png": "[encoded data removed]"
          },
          "metadata": {}
        },
        {
          "output_type": "stream",
          "name": "stdout",
          "text": [
            "---\n",
            "Predicao: not_covered | Real: not_covered\n"
          ]
        },
        {
          "output_type": "display_data",
          "data": {
            "text/plain": [
              "<PIL.Image.Image image mode=RGB size=64x64 at 0x7F3C3BE14B20>"
            ],
            "image/png": "[encoded data removed]"
          },
          "metadata": {}
        },
        {
          "output_type": "stream",
          "name": "stdout",
          "text": [
            "---\n",
            "Predicao: not_covered | Real: not_covered\n"
          ]
        },
        {
          "output_type": "display_data",
          "data": {
            "text/plain": [
              "<PIL.Image.Image image mode=RGB size=64x64 at 0x7F3C3BE15510>"
            ],
            "image/png": "[encoded data removed]"
          },
          "metadata": {}
        },
        {
          "output_type": "stream",
          "name": "stdout",
          "text": [
            "---\n"
          ]
        }
      ]
    }
  ]
}